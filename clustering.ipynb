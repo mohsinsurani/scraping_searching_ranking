{
 "cells": [
  {
   "cell_type": "code",
   "execution_count": 206,
   "id": "858d10a7",
   "metadata": {},
   "outputs": [],
   "source": [
    "import pandas as pd\n",
    "import re\n",
    "import string\n",
    "from sklearn.cluster import KMeans\n",
    "from nltk.tokenize import word_tokenize \n",
    "from nltk.stem import WordNetLemmatizer\n",
    "from sklearn.feature_extraction.text import TfidfVectorizer\n",
    "from sklearn.pipeline import make_pipeline\n",
    "from sklearn.preprocessing import Normalizer\n",
    "from sklearn import metrics\n",
    "import matplotlib.pyplot as plt\n",
    "import sys\n",
    "from time import time\n",
    "import numpy as np\n",
    "\n",
    "from nltk.corpus import stopwords\n",
    "from nltk.stem import PorterStemmer\n",
    "from nltk import word_tokenize\n",
    "from wordcloud import WordCloud\n",
    "%matplotlib inline"
   ]
  },
  {
   "cell_type": "code",
   "execution_count": 207,
   "id": "ded33c7c",
   "metadata": {},
   "outputs": [],
   "source": [
    "new_df = pd.read_csv(\"CNN_Articels_clean.csv\")\n",
    "new_df.columns = new_df.columns.str.replace(' ','_')\n",
    "new_df.columns = new_df.columns.str.strip().str.lower()\n",
    "new_df = new_df.rename(columns={'article_text': 'text', 'category': 'cat'})"
   ]
  },
  {
   "cell_type": "code",
   "execution_count": 208,
   "id": "98b4fe25",
   "metadata": {},
   "outputs": [],
   "source": [
    "news_cat = [\"politics\", \"health\", \"sport\"]\n",
    "rel_cat_df = new_df[new_df['cat'].isin(news_cat)]"
   ]
  },
  {
   "cell_type": "code",
   "execution_count": 209,
   "id": "e2413b52",
   "metadata": {},
   "outputs": [],
   "source": [
    "df = rel_cat_df[['text', 'cat']]"
   ]
  },
  {
   "cell_type": "code",
   "execution_count": 210,
   "id": "ee72fb24",
   "metadata": {},
   "outputs": [
    {
     "data": {
      "text/html": [
       "<div>\n",
       "<style scoped>\n",
       "    .dataframe tbody tr th:only-of-type {\n",
       "        vertical-align: middle;\n",
       "    }\n",
       "\n",
       "    .dataframe tbody tr th {\n",
       "        vertical-align: top;\n",
       "    }\n",
       "\n",
       "    .dataframe thead th {\n",
       "        text-align: right;\n",
       "    }\n",
       "</style>\n",
       "<table border=\"1\" class=\"dataframe\">\n",
       "  <thead>\n",
       "    <tr style=\"text-align: right;\">\n",
       "      <th></th>\n",
       "      <th>text</th>\n",
       "      <th>cat</th>\n",
       "    </tr>\n",
       "  </thead>\n",
       "  <tbody>\n",
       "    <tr>\n",
       "      <th>30</th>\n",
       "      <td>(CNN)The US public and even some health exper...</td>\n",
       "      <td>health</td>\n",
       "    </tr>\n",
       "    <tr>\n",
       "      <th>31</th>\n",
       "      <td>(CNN)A month after the US Food and Drug Admin...</td>\n",
       "      <td>health</td>\n",
       "    </tr>\n",
       "    <tr>\n",
       "      <th>32</th>\n",
       "      <td>(CNN)The number of deaths in the US involving...</td>\n",
       "      <td>health</td>\n",
       "    </tr>\n",
       "    <tr>\n",
       "      <th>33</th>\n",
       "      <td>(CNN)With a new version of the Omicron corona...</td>\n",
       "      <td>health</td>\n",
       "    </tr>\n",
       "    <tr>\n",
       "      <th>64</th>\n",
       "      <td>(CNN)The Cleveland Browns have defended their...</td>\n",
       "      <td>sport</td>\n",
       "    </tr>\n",
       "  </tbody>\n",
       "</table>\n",
       "</div>"
      ],
      "text/plain": [
       "                                                 text     cat\n",
       "30   (CNN)The US public and even some health exper...  health\n",
       "31   (CNN)A month after the US Food and Drug Admin...  health\n",
       "32   (CNN)The number of deaths in the US involving...  health\n",
       "33   (CNN)With a new version of the Omicron corona...  health\n",
       "64   (CNN)The Cleveland Browns have defended their...   sport"
      ]
     },
     "execution_count": 210,
     "metadata": {},
     "output_type": "execute_result"
    }
   ],
   "source": [
    "df.head()"
   ]
  },
  {
   "cell_type": "code",
   "execution_count": 211,
   "id": "fdeb2ee8",
   "metadata": {},
   "outputs": [
    {
     "name": "stderr",
     "output_type": "stream",
     "text": [
      "/Users/admin/opt/miniconda3/envs/myenv/lib/python3.7/site-packages/pandas/util/_decorators.py:311: SettingWithCopyWarning: \n",
      "A value is trying to be set on a copy of a slice from a DataFrame\n",
      "\n",
      "See the caveats in the documentation: https://pandas.pydata.org/pandas-docs/stable/user_guide/indexing.html#returning-a-view-versus-a-copy\n",
      "  return func(*args, **kwargs)\n",
      "/Users/admin/opt/miniconda3/envs/myenv/lib/python3.7/site-packages/ipykernel_launcher.py:3: SettingWithCopyWarning: \n",
      "A value is trying to be set on a copy of a slice from a DataFrame.\n",
      "Try using .loc[row_indexer,col_indexer] = value instead\n",
      "\n",
      "See the caveats in the documentation: https://pandas.pydata.org/pandas-docs/stable/user_guide/indexing.html#returning-a-view-versus-a-copy\n",
      "  This is separate from the ipykernel package so we can avoid doing imports until\n",
      "/Users/admin/opt/miniconda3/envs/myenv/lib/python3.7/site-packages/ipykernel_launcher.py:4: FutureWarning: The default value of regex will change from True to False in a future version.\n",
      "  after removing the cwd from sys.path.\n",
      "/Users/admin/opt/miniconda3/envs/myenv/lib/python3.7/site-packages/ipykernel_launcher.py:4: SettingWithCopyWarning: \n",
      "A value is trying to be set on a copy of a slice from a DataFrame.\n",
      "Try using .loc[row_indexer,col_indexer] = value instead\n",
      "\n",
      "See the caveats in the documentation: https://pandas.pydata.org/pandas-docs/stable/user_guide/indexing.html#returning-a-view-versus-a-copy\n",
      "  after removing the cwd from sys.path.\n",
      "/Users/admin/opt/miniconda3/envs/myenv/lib/python3.7/site-packages/ipykernel_launcher.py:5: FutureWarning: The default value of regex will change from True to False in a future version.\n",
      "  \"\"\"\n",
      "/Users/admin/opt/miniconda3/envs/myenv/lib/python3.7/site-packages/ipykernel_launcher.py:5: SettingWithCopyWarning: \n",
      "A value is trying to be set on a copy of a slice from a DataFrame.\n",
      "Try using .loc[row_indexer,col_indexer] = value instead\n",
      "\n",
      "See the caveats in the documentation: https://pandas.pydata.org/pandas-docs/stable/user_guide/indexing.html#returning-a-view-versus-a-copy\n",
      "  \"\"\"\n"
     ]
    }
   ],
   "source": [
    "df.dropna(inplace=True)\n",
    "df.drop_duplicates('text', inplace=True)\n",
    "df['text'] = df['text'].map(lambda x: re.sub('[^\\w\\s]', '', x))\n",
    "df['text'] = df['text'].str.replace('(CNN)','')\n",
    "df['text'] = df['text'].str.replace('(CNN Business)','')"
   ]
  },
  {
   "cell_type": "code",
   "execution_count": 212,
   "id": "caef2dcd",
   "metadata": {},
   "outputs": [
    {
     "name": "stdout",
     "output_type": "stream",
     "text": [
      "<class 'pandas.core.frame.DataFrame'>\n",
      "Int64Index: 18541 entries, 30 to 37946\n",
      "Data columns (total 2 columns):\n",
      " #   Column  Non-Null Count  Dtype \n",
      "---  ------  --------------  ----- \n",
      " 0   text    18541 non-null  object\n",
      " 1   cat     18541 non-null  object\n",
      "dtypes: object(2)\n",
      "memory usage: 434.6+ KB\n"
     ]
    }
   ],
   "source": [
    "df.info()"
   ]
  },
  {
   "cell_type": "code",
   "execution_count": 213,
   "id": "548bfa69",
   "metadata": {},
   "outputs": [
    {
     "data": {
      "text/html": [
       "<div>\n",
       "<style scoped>\n",
       "    .dataframe tbody tr th:only-of-type {\n",
       "        vertical-align: middle;\n",
       "    }\n",
       "\n",
       "    .dataframe tbody tr th {\n",
       "        vertical-align: top;\n",
       "    }\n",
       "\n",
       "    .dataframe thead th {\n",
       "        text-align: right;\n",
       "    }\n",
       "</style>\n",
       "<table border=\"1\" class=\"dataframe\">\n",
       "  <thead>\n",
       "    <tr style=\"text-align: right;\">\n",
       "      <th></th>\n",
       "      <th>text</th>\n",
       "      <th>cat</th>\n",
       "    </tr>\n",
       "  </thead>\n",
       "  <tbody>\n",
       "    <tr>\n",
       "      <th>30</th>\n",
       "      <td>The US public and even some health experts ma...</td>\n",
       "      <td>health</td>\n",
       "    </tr>\n",
       "    <tr>\n",
       "      <th>31</th>\n",
       "      <td>A month after the US Food and Drug Administra...</td>\n",
       "      <td>health</td>\n",
       "    </tr>\n",
       "    <tr>\n",
       "      <th>32</th>\n",
       "      <td>The number of deaths in the US involving alco...</td>\n",
       "      <td>health</td>\n",
       "    </tr>\n",
       "    <tr>\n",
       "      <th>33</th>\n",
       "      <td>With a new version of the Omicron coronavirus...</td>\n",
       "      <td>health</td>\n",
       "    </tr>\n",
       "    <tr>\n",
       "      <th>64</th>\n",
       "      <td>The Cleveland Browns have defended their sign...</td>\n",
       "      <td>sport</td>\n",
       "    </tr>\n",
       "  </tbody>\n",
       "</table>\n",
       "</div>"
      ],
      "text/plain": [
       "                                                 text     cat\n",
       "30   The US public and even some health experts ma...  health\n",
       "31   A month after the US Food and Drug Administra...  health\n",
       "32   The number of deaths in the US involving alco...  health\n",
       "33   With a new version of the Omicron coronavirus...  health\n",
       "64   The Cleveland Browns have defended their sign...   sport"
      ]
     },
     "execution_count": 213,
     "metadata": {},
     "output_type": "execute_result"
    }
   ],
   "source": [
    "df.head()"
   ]
  },
  {
   "cell_type": "code",
   "execution_count": 214,
   "id": "57188656",
   "metadata": {},
   "outputs": [
    {
     "data": {
      "text/plain": [
       "sport       15523\n",
       "politics     2461\n",
       "health        557\n",
       "Name: cat, dtype: int64"
      ]
     },
     "execution_count": 214,
     "metadata": {},
     "output_type": "execute_result"
    }
   ],
   "source": [
    "df[\"cat\"].value_counts()"
   ]
  },
  {
   "cell_type": "code",
   "execution_count": 215,
   "id": "fc26f2c4",
   "metadata": {},
   "outputs": [],
   "source": [
    "df = df.groupby(\"cat\").head(500)"
   ]
  },
  {
   "cell_type": "code",
   "execution_count": 216,
   "id": "b92d7815",
   "metadata": {},
   "outputs": [
    {
     "data": {
      "text/plain": [
       "health      500\n",
       "sport       500\n",
       "politics    500\n",
       "Name: cat, dtype: int64"
      ]
     },
     "execution_count": 216,
     "metadata": {},
     "output_type": "execute_result"
    }
   ],
   "source": [
    "df[\"cat\"].value_counts()"
   ]
  },
  {
   "cell_type": "code",
   "execution_count": 217,
   "id": "19c1f37e",
   "metadata": {},
   "outputs": [
    {
     "data": {
      "text/html": [
       "<div>\n",
       "<style scoped>\n",
       "    .dataframe tbody tr th:only-of-type {\n",
       "        vertical-align: middle;\n",
       "    }\n",
       "\n",
       "    .dataframe tbody tr th {\n",
       "        vertical-align: top;\n",
       "    }\n",
       "\n",
       "    .dataframe thead th {\n",
       "        text-align: right;\n",
       "    }\n",
       "</style>\n",
       "<table border=\"1\" class=\"dataframe\">\n",
       "  <thead>\n",
       "    <tr style=\"text-align: right;\">\n",
       "      <th></th>\n",
       "      <th>text</th>\n",
       "      <th>cat</th>\n",
       "    </tr>\n",
       "  </thead>\n",
       "  <tbody>\n",
       "    <tr>\n",
       "      <th>30</th>\n",
       "      <td>The US public and even some health experts ma...</td>\n",
       "      <td>health</td>\n",
       "    </tr>\n",
       "    <tr>\n",
       "      <th>31</th>\n",
       "      <td>A month after the US Food and Drug Administra...</td>\n",
       "      <td>health</td>\n",
       "    </tr>\n",
       "    <tr>\n",
       "      <th>32</th>\n",
       "      <td>The number of deaths in the US involving alco...</td>\n",
       "      <td>health</td>\n",
       "    </tr>\n",
       "    <tr>\n",
       "      <th>33</th>\n",
       "      <td>With a new version of the Omicron coronavirus...</td>\n",
       "      <td>health</td>\n",
       "    </tr>\n",
       "    <tr>\n",
       "      <th>64</th>\n",
       "      <td>The Cleveland Browns have defended their sign...</td>\n",
       "      <td>sport</td>\n",
       "    </tr>\n",
       "  </tbody>\n",
       "</table>\n",
       "</div>"
      ],
      "text/plain": [
       "                                                 text     cat\n",
       "30   The US public and even some health experts ma...  health\n",
       "31   A month after the US Food and Drug Administra...  health\n",
       "32   The number of deaths in the US involving alco...  health\n",
       "33   With a new version of the Omicron coronavirus...  health\n",
       "64   The Cleveland Browns have defended their sign...   sport"
      ]
     },
     "execution_count": 217,
     "metadata": {},
     "output_type": "execute_result"
    }
   ],
   "source": [
    "# df['len_text'] = df['text'].apply(lambda x: len(x))\n",
    "df.head()"
   ]
  },
  {
   "cell_type": "code",
   "execution_count": 218,
   "id": "82192f38",
   "metadata": {},
   "outputs": [
    {
     "data": {
      "text/plain": [
       "30       The US public and even some health experts ma...\n",
       "31       A month after the US Food and Drug Administra...\n",
       "32       The number of deaths in the US involving alco...\n",
       "33       With a new version of the Omicron coronavirus...\n",
       "64       The Cleveland Browns have defended their sign...\n",
       "                              ...                        \n",
       "8791     New York state reported that Thursday had the...\n",
       "8848    Story highlightsWellwishers from 22 states rai...\n",
       "8870    Story highlightsFlorida officials announce mor...\n",
       "8962    Story highlightsThe uterus came from a decease...\n",
       "8985    Story highlightsTeenager dies after being bitt...\n",
       "Name: text, Length: 1500, dtype: object"
      ]
     },
     "execution_count": 218,
     "metadata": {},
     "output_type": "execute_result"
    }
   ],
   "source": [
    "df[\"text\"]"
   ]
  },
  {
   "cell_type": "code",
   "execution_count": 219,
   "id": "4aa8f202",
   "metadata": {},
   "outputs": [],
   "source": [
    "def basic_preprocess_case(text):\n",
    "    text = text.lower()\n",
    "    text = text.translate(str.maketrans('', '', string.punctuation))\n",
    "    return text\n",
    "\n",
    "\n",
    "def del_stop_words(text):\n",
    "\n",
    "    stpw = stopwords.words('english')\n",
    "    text1 = \"\"\n",
    "    for word in word_tokenize(text):\n",
    "        if word not in stpw and len(word) > 1:\n",
    "            text1 = text1 + \" \" + word\n",
    "\n",
    "    return text1\n",
    "\n",
    "def stemming(data):\n",
    "    stemmer= PorterStemmer()\n",
    "    \n",
    "    tokens = word_tokenize(str(data))\n",
    "    new_text = \"\"\n",
    "    for w in tokens:\n",
    "        new_text = new_text + \" \" + stemmer.stem(w)\n",
    "    return new_text\n",
    "\n",
    "def preprocess(text):\n",
    "    text = basic_preprocess_case(text)\n",
    "    text = del_stop_words(text)\n",
    "    text = stemming(text)\n",
    "    return text"
   ]
  },
  {
   "cell_type": "code",
   "execution_count": 220,
   "id": "84ed3f61",
   "metadata": {},
   "outputs": [],
   "source": [
    "df['lem'] = df['text'].apply(lambda x: preprocess(x))"
   ]
  },
  {
   "cell_type": "code",
   "execution_count": 221,
   "id": "2bd38540",
   "metadata": {},
   "outputs": [
    {
     "data": {
      "text/plain": [
       "30       us public even health expert may underestim c...\n",
       "31       month us food drug administr delay key step t...\n",
       "32       number death us involv alcohol jump 255 2019 ...\n",
       "33       new version omicron coronaviru variant pick s...\n",
       "64       cleveland brown defend sign embattl quarterba...\n",
       "                              ...                        \n",
       "8791     new york state report thursday highest singl ...\n",
       "8848     stori highlightswellwish 22 state rais nearli...\n",
       "8870     stori highlightsflorida offici announc nontra...\n",
       "8962     stori highlightsth uteru came deceas organ do...\n",
       "8985     stori highlightsteenag die bitten multipl tim...\n",
       "Name: lem, Length: 1500, dtype: object"
      ]
     },
     "execution_count": 221,
     "metadata": {},
     "output_type": "execute_result"
    }
   ],
   "source": [
    "df['lem']"
   ]
  },
  {
   "cell_type": "code",
   "execution_count": 222,
   "id": "3c11b063",
   "metadata": {},
   "outputs": [],
   "source": [
    "df.to_csv(\"cnn_1500.csv\", index=False)"
   ]
  },
  {
   "cell_type": "code",
   "execution_count": 223,
   "id": "1cac99f4",
   "metadata": {},
   "outputs": [],
   "source": [
    "vect_tfidf = TfidfVectorizer(strip_accents='unicode', stop_words='english', min_df=2)\n",
    "X_trf = vect_tfidf.fit_transform(df['lem'])"
   ]
  },
  {
   "cell_type": "code",
   "execution_count": 224,
   "id": "35d22249",
   "metadata": {},
   "outputs": [
    {
     "data": {
      "text/plain": [
       "<1500x19670 sparse matrix of type '<class 'numpy.float64'>'\n",
       "\twith 469019 stored elements in Compressed Sparse Row format>"
      ]
     },
     "execution_count": 224,
     "metadata": {},
     "output_type": "execute_result"
    }
   ],
   "source": [
    "X_trf"
   ]
  },
  {
   "cell_type": "code",
   "execution_count": 225,
   "id": "a21c3d55",
   "metadata": {},
   "outputs": [
    {
     "name": "stdout",
     "output_type": "stream",
     "text": [
      "done in 2.942s\n"
     ]
    }
   ],
   "source": [
    "inertia = []\n",
    "k_means = KMeans(n_clusters=8, max_iter=1000, random_state=121)\n",
    "start_time = time()\n",
    "k_means.fit(X_trf)\n",
    "inertia.append(k_means.inertia_)\n",
    "print(\"done in %0.3fs\" % (time() - start_time))"
   ]
  },
  {
   "cell_type": "code",
   "execution_count": 226,
   "id": "62a501d1",
   "metadata": {},
   "outputs": [
    {
     "data": {
      "image/png": "[encoded data removed]",
      "text/plain": [
       "<Figure size 432x288 with 1 Axes>"
      ]
     },
     "metadata": {
      "needs_background": "light"
     },
     "output_type": "display_data"
    }
   ],
   "source": [
    "sum_of_sqrd_dist = []\n",
    "num_total_clusters = range(1,11)\n",
    "for num_clusters in num_total_clusters :\n",
    " kmeans = KMeans(n_clusters=num_clusters)\n",
    " kmeans.fit(X_trf)\n",
    " sum_of_sqrd_dist.append(kmeans.inertia_)\n",
    "plt.plot(num_total_clusters,sum_of_sqrd_dist,'bx-')\n",
    "plt.xlabel('Values of clusters') \n",
    "plt.ylabel('Total of squared distances') \n",
    "plt.title('Elbow Method to find Optimal cluster')\n",
    "plt.show()"
   ]
  },
  {
   "cell_type": "code",
   "execution_count": 228,
   "id": "676294c5",
   "metadata": {},
   "outputs": [
    {
     "name": "stdout",
     "output_type": "stream",
     "text": [
      "Homogeneity index: 0.748\n",
      "Completeness index: 0.434\n",
      "V-measure index: 0.549\n",
      "Adjusted Rand-Index index: 0.435\n",
      "Silhouette Coefficient index: 0.027\n"
     ]
    }
   ],
   "source": [
    "labels = df.cat\n",
    "print(\"Homogeneity index: %0.3f\" % metrics.homogeneity_score(labels, k_means.labels_))\n",
    "print(\"Completeness index: %0.3f\" % metrics.completeness_score(labels, k_means.labels_))\n",
    "print(\"V-measure index: %0.3f\" % metrics.v_measure_score(labels, k_means.labels_))\n",
    "print(\"Adjusted Rand-Index index: %.3f\"\n",
    "      % metrics.adjusted_rand_score(labels, k_means.labels_))\n",
    "print(\"Silhouette Coefficient index: %0.3f\"\n",
    "      % metrics.silhouette_score(X_trf, k_means.labels_))"
   ]
  },
  {
   "cell_type": "code",
   "execution_count": 227,
   "id": "04b04be7",
   "metadata": {},
   "outputs": [
    {
     "data": {
      "image/png": "[encoded data removed]",
      "text/plain": [
       "<Figure size 432x288 with 1 Axes>"
      ]
     },
     "metadata": {
      "needs_background": "light"
     },
     "output_type": "display_data"
    }
   ],
   "source": [
    "from sklearn.metrics import homogeneity_completeness_v_measure\n",
    "\n",
    "scores = []\n",
    "\n",
    "N_Clusters = [2, 3, 4, 5, 6 ,7, 8, 9 ,10]\n",
    "\n",
    "for i in N_Clusters:\n",
    "    kmeans2 = KMeans(n_clusters = i, max_iter=1000, random_state=111)\n",
    "    kmeans2.fit(X_trf)\n",
    "    labels2 = kmeans2.predict(X_trf)\n",
    "    scores.append(v_measure_score(df['cat'], labels2))\n",
    "    \n",
    "\n",
    "plt.bar(N_Clusters, scores)\n",
    "plt.xlabel('Number of Clusters')\n",
    "plt.ylabel('V-Measure Scores')\n",
    "plt.title('Comparison of various Clusters')\n",
    "plt.show()"
   ]
  },
  {
   "cell_type": "code",
   "execution_count": 122,
   "id": "dcc37524",
   "metadata": {},
   "outputs": [
    {
     "name": "stdout",
     "output_type": "stream",
     "text": [
      "Cluster 0 -> race hors formula caption hamilton photo driver car ascot verstappen\n",
      "Cluster 1 -> said peopl health say famili like patient children studi year\n",
      "Cluster 2 -> vaccin covid19 dose variant mask test omicron booster health cdc\n",
      "Cluster 3 -> club leagu footbal player neymar barcelona champion chelsea psg manchest\n",
      "Cluster 4 -> biden trump presid said hous capitol white democrat administr state\n",
      "Cluster 5 -> russia ukrain russian putin biden sanction ukrainian offici war zelenski\n",
      "Cluster 6 -> elect democrat vote republican court trump voter state senat biden\n",
      "Cluster 7 -> olymp athlet game winter sport golf medal team gold win\n"
     ]
    }
   ],
   "source": [
    "# Largest centroids -> descending pattern:\n",
    "centroids = k_means.cluster_centers_.argsort()[:, ::-1] \n",
    "features = vect_tfidf.get_feature_names_out()\n",
    "for i in range(8):\n",
    "    print(\"Cluster %d ->\" % i, end='')\n",
    "    for j in centroids[i, :10]:\n",
    "        print(' %s' % features[j], end='')\n",
    "    print()"
   ]
  },
  {
   "cell_type": "code",
   "execution_count": 229,
   "id": "3a89ad8b",
   "metadata": {},
   "outputs": [
    {
     "name": "stdout",
     "output_type": "stream",
     "text": [
      "power of the sun The biennial race was first held in 1987 and last years edition drew 24 teams from across the globeThe competition was split into three different classes with driving from 8 am until 5 pmRead MoreThe race takes between five and six days Visit comsport for more news features and videosBelgian team Agoria finished first in one class” that belongs to 0\n",
      " power sun biennial race first held 1987 last year edit drew 24 team across globeth competit split three differ class drive pmread moreth race take five six day visit comsport news featur videosbelgian team agoria finish first one class belong   (0, 19512)\t0.06511502549845562\n",
      "  (0, 18718)\t0.13011752815556032\n",
      "  (0, 17122)\t0.2032470962293408\n",
      "  (0, 16809)\t0.21977331286206941\n",
      "  (0, 16303)\t0.20401986229063632\n",
      "  (0, 13911)\t0.258236258243861\n",
      "  (0, 13427)\t0.1250065535721189\n",
      "  (0, 11880)\t0.10525319756721759\n",
      "  (0, 11476)\t0.1538413224686609\n",
      "  (0, 8182)\t0.13833558683462752\n",
      "  (0, 7535)\t0.3569293111206031\n",
      "  (0, 6806)\t0.13813731574904908\n",
      "  (0, 6666)\t0.1469984556933963\n",
      "  (0, 5901)\t0.19450349992455454\n",
      "  (0, 5740)\t0.14868367941984417\n",
      "  (0, 5728)\t0.2121476992236862\n",
      "  (0, 5313)\t0.10068661537964861\n",
      "  (0, 4899)\t0.07444265460061154\n",
      "  (0, 4238)\t0.17282365535856023\n",
      "  (0, 4201)\t0.14312997658018134\n",
      "  (0, 3937)\t0.3488914419839999\n",
      "  (0, 2649)\t0.32264031155596967\n",
      "  (0, 2533)\t0.2071126549231936\n",
      "  (0, 595)\t0.15750733784920687\n",
      "  (0, 388)\t0.280725698352953\n",
      "this search input is in 0 cluster\n",
      "Black fetus in the womb went viral last December\n",
      " black fetu womb went viral last decemb   (0, 19346)\t0.5331471032304516\n",
      "  (0, 19160)\t0.2470205997452549\n",
      "  (0, 18694)\t0.4475078649420613\n",
      "  (0, 6733)\t0.5453226811495525\n",
      "  (0, 4988)\t0.28676587211783683\n",
      "  (0, 2733)\t0.2736059364228608\n",
      "this search input is in 1 cluster\n",
      "covid19\n",
      " covid19   (0, 4585)\t1.0\n",
      "this search input is in 2 cluster\n",
      "aggregateFrench club fall short of semifinals yet again This season it was supposed to be\n",
      " aggregatefrench club fall short semifin yet season suppos   (0, 16868)\t0.4459232715381006\n",
      "  (0, 15735)\t0.35214384444136326\n",
      "  (0, 15499)\t0.553250089932985\n",
      "  (0, 15361)\t0.3364581867840994\n",
      "  (0, 6556)\t0.33457409215370715\n",
      "  (0, 4009)\t0.3819915602699058\n",
      "this search input is in 3 cluster\n",
      "of steps aimed at closing the gender and racial wage gaps, with Vice President Kamala Harris\n",
      " step aim close gender racial wage gap vice presid kamala harri   (0, 18798)\t0.384239261114945\n",
      "  (0, 18613)\t0.2639959504670838\n",
      "  (0, 16549)\t0.2121498261734799\n",
      "  (0, 13948)\t0.35901889081438565\n",
      "  (0, 13527)\t0.1556417248314429\n",
      "  (0, 9536)\t0.32736509328476787\n",
      "  (0, 8038)\t0.29666246711016836\n",
      "  (0, 7416)\t0.36915767004438577\n",
      "  (0, 7359)\t0.384239261114945\n",
      "  (0, 3996)\t0.1884469206581277\n",
      "  (0, 1483)\t0.26445020023770144\n",
      "this search input is in 4 cluster\n",
      "Ukraine has united Americas political parties as war abroad\n",
      " ukrain unit america polit parti war abroad   (0, 18845)\t0.37122028027406445\n",
      "  (0, 18209)\t0.2464673566773429\n",
      "  (0, 18002)\t0.3949014949607962\n",
      "  (0, 13306)\t0.31846766754298866\n",
      "  (0, 12797)\t0.3413133092825317\n",
      "  (0, 1677)\t0.33201823744637743\n",
      "  (0, 1192)\t0.5633379221415802\n",
      "this search input is in 5 cluster\n",
      "seeking the Republican nomination for US Senate in Pennsylvania said Wednesday\n",
      " seek republican nomin us senat pennsylvania said wednesday   (0, 19071)\t0.33837215551260835\n",
      "  (0, 15506)\t0.36572390913841224\n",
      "  (0, 15432)\t0.3685856754096368\n",
      "  (0, 14942)\t0.1420548771899109\n",
      "  (0, 14435)\t0.33701402221191934\n",
      "  (0, 12955)\t0.5089373573872209\n",
      "  (0, 11984)\t0.4723554101478111\n",
      "this search input is in 6 cluster\n",
      "Beijing Olympics after her friend and teammate gave up\n",
      " beij olymp friend teammat gave   (0, 17137)\t0.5157456068750729\n",
      "  (0, 12277)\t0.4150122327588371\n",
      "  (0, 7396)\t0.4102466807215843\n",
      "  (0, 7205)\t0.3669921039482575\n",
      "  (0, 2513)\t0.5087099097188315\n",
      "this search input is in 7 cluster\n",
      "six seasons after overcoming Lyon on penalties\n",
      " six season overcom lyon penalti   (0, 15361)\t0.31045960021573277\n",
      "  (0, 12941)\t0.47129024506272155\n",
      "  (0, 12563)\t0.4913671959384244\n",
      "  (0, 10495)\t0.6633691433117894\n",
      "this search input is in 1 cluster\n"
     ]
    },
    {
     "ename": "KeyboardInterrupt",
     "evalue": "Interrupted by user",
     "output_type": "error",
     "traceback": [
      "\u001b[0;31m---------------------------------------------------------------------------\u001b[0m",
      "\u001b[0;31mKeyboardInterrupt\u001b[0m                         Traceback (most recent call last)",
      "\u001b[0;32m/var/folders/cz/mf6k7s456v95hf4y3g4lyfz40000gn/T/ipykernel_56333/1040909904.py\u001b[0m in \u001b[0;36m<module>\u001b[0;34m\u001b[0m\n\u001b[1;32m      1\u001b[0m \u001b[0;32mwhile\u001b[0m \u001b[0;32mTrue\u001b[0m\u001b[0;34m:\u001b[0m\u001b[0;34m\u001b[0m\u001b[0;34m\u001b[0m\u001b[0m\n\u001b[0;32m----> 2\u001b[0;31m     \u001b[0msearch_input\u001b[0m \u001b[0;34m=\u001b[0m \u001b[0minput\u001b[0m\u001b[0;34m(\u001b[0m\u001b[0;34m)\u001b[0m\u001b[0;34m\u001b[0m\u001b[0;34m\u001b[0m\u001b[0m\n\u001b[0m\u001b[1;32m      3\u001b[0m     \u001b[0msearch_input\u001b[0m \u001b[0;34m=\u001b[0m \u001b[0mpreprocess\u001b[0m\u001b[0;34m(\u001b[0m\u001b[0msearch_input\u001b[0m\u001b[0;34m)\u001b[0m\u001b[0;34m\u001b[0m\u001b[0;34m\u001b[0m\u001b[0m\n\u001b[1;32m      4\u001b[0m     \u001b[0mprint\u001b[0m\u001b[0;34m(\u001b[0m\u001b[0msearch_input\u001b[0m\u001b[0;34m,\u001b[0m \u001b[0mvect_tfidf\u001b[0m\u001b[0;34m.\u001b[0m\u001b[0mtransform\u001b[0m\u001b[0;34m(\u001b[0m\u001b[0;34m[\u001b[0m\u001b[0msearch_input\u001b[0m\u001b[0;34m]\u001b[0m\u001b[0;34m)\u001b[0m\u001b[0;34m)\u001b[0m\u001b[0;34m\u001b[0m\u001b[0;34m\u001b[0m\u001b[0m\n\u001b[1;32m      5\u001b[0m     \u001b[0mres\u001b[0m \u001b[0;34m=\u001b[0m \u001b[0mk_means\u001b[0m\u001b[0;34m.\u001b[0m\u001b[0mpredict\u001b[0m\u001b[0;34m(\u001b[0m\u001b[0mvect_tfidf\u001b[0m\u001b[0;34m.\u001b[0m\u001b[0mtransform\u001b[0m\u001b[0;34m(\u001b[0m\u001b[0;34m[\u001b[0m\u001b[0msearch_input\u001b[0m\u001b[0;34m]\u001b[0m\u001b[0;34m)\u001b[0m\u001b[0;34m)\u001b[0m\u001b[0;34m\u001b[0m\u001b[0;34m\u001b[0m\u001b[0m\n",
      "\u001b[0;32m~/opt/miniconda3/envs/myenv/lib/python3.7/site-packages/ipykernel/kernelbase.py\u001b[0m in \u001b[0;36mraw_input\u001b[0;34m(self, prompt)\u001b[0m\n\u001b[1;32m   1077\u001b[0m             \u001b[0mself\u001b[0m\u001b[0;34m.\u001b[0m\u001b[0m_parent_ident\u001b[0m\u001b[0;34m[\u001b[0m\u001b[0;34m\"shell\"\u001b[0m\u001b[0;34m]\u001b[0m\u001b[0;34m,\u001b[0m\u001b[0;34m\u001b[0m\u001b[0;34m\u001b[0m\u001b[0m\n\u001b[1;32m   1078\u001b[0m             \u001b[0mself\u001b[0m\u001b[0;34m.\u001b[0m\u001b[0mget_parent\u001b[0m\u001b[0;34m(\u001b[0m\u001b[0;34m\"shell\"\u001b[0m\u001b[0;34m)\u001b[0m\u001b[0;34m,\u001b[0m\u001b[0;34m\u001b[0m\u001b[0;34m\u001b[0m\u001b[0m\n\u001b[0;32m-> 1079\u001b[0;31m             \u001b[0mpassword\u001b[0m\u001b[0;34m=\u001b[0m\u001b[0;32mFalse\u001b[0m\u001b[0;34m,\u001b[0m\u001b[0;34m\u001b[0m\u001b[0;34m\u001b[0m\u001b[0m\n\u001b[0m\u001b[1;32m   1080\u001b[0m         )\n\u001b[1;32m   1081\u001b[0m \u001b[0;34m\u001b[0m\u001b[0m\n",
      "\u001b[0;32m~/opt/miniconda3/envs/myenv/lib/python3.7/site-packages/ipykernel/kernelbase.py\u001b[0m in \u001b[0;36m_input_request\u001b[0;34m(self, prompt, ident, parent, password)\u001b[0m\n\u001b[1;32m   1118\u001b[0m             \u001b[0;32mexcept\u001b[0m \u001b[0mKeyboardInterrupt\u001b[0m\u001b[0;34m:\u001b[0m\u001b[0;34m\u001b[0m\u001b[0;34m\u001b[0m\u001b[0m\n\u001b[1;32m   1119\u001b[0m                 \u001b[0;31m# re-raise KeyboardInterrupt, to truncate traceback\u001b[0m\u001b[0;34m\u001b[0m\u001b[0;34m\u001b[0m\u001b[0;34m\u001b[0m\u001b[0m\n\u001b[0;32m-> 1120\u001b[0;31m                 \u001b[0;32mraise\u001b[0m \u001b[0mKeyboardInterrupt\u001b[0m\u001b[0;34m(\u001b[0m\u001b[0;34m\"Interrupted by user\"\u001b[0m\u001b[0;34m)\u001b[0m \u001b[0;32mfrom\u001b[0m \u001b[0;32mNone\u001b[0m\u001b[0;34m\u001b[0m\u001b[0;34m\u001b[0m\u001b[0m\n\u001b[0m\u001b[1;32m   1121\u001b[0m             \u001b[0;32mexcept\u001b[0m \u001b[0mException\u001b[0m\u001b[0;34m:\u001b[0m\u001b[0;34m\u001b[0m\u001b[0;34m\u001b[0m\u001b[0m\n\u001b[1;32m   1122\u001b[0m                 \u001b[0mself\u001b[0m\u001b[0;34m.\u001b[0m\u001b[0mlog\u001b[0m\u001b[0;34m.\u001b[0m\u001b[0mwarning\u001b[0m\u001b[0;34m(\u001b[0m\u001b[0;34m\"Invalid Message:\"\u001b[0m\u001b[0;34m,\u001b[0m \u001b[0mexc_info\u001b[0m\u001b[0;34m=\u001b[0m\u001b[0;32mTrue\u001b[0m\u001b[0;34m)\u001b[0m\u001b[0;34m\u001b[0m\u001b[0;34m\u001b[0m\u001b[0m\n",
      "\u001b[0;31mKeyboardInterrupt\u001b[0m: Interrupted by user"
     ]
    }
   ],
   "source": [
    "while True:\n",
    "    search_input = input()\n",
    "    search_input = preprocess(search_input)\n",
    "    print(search_input, vect_tfidf.transform([search_input]))\n",
    "    res = k_means.predict(vect_tfidf.transform([search_input]))\n",
    "#     print(res)\n",
    "    print(\"this search input is in\",res[0], \"cluster\")"
   ]
  },
  {
   "cell_type": "code",
   "execution_count": null,
   "id": "2d8c0722",
   "metadata": {},
   "outputs": [],
   "source": [
    "stop_words = stopwords.words('english')\n",
    "\n",
    "most_words = '' \n",
    "stopwords = set(stop_words) \n",
    "  \n",
    "for value in df['text']: \n",
    "    value = str(value) \n",
    "    tokens = value.split() \n",
    "      \n",
    "    for i in range(len(tokens)): \n",
    "        tokens[i] = tokens[i].lower() \n",
    "      \n",
    "    most_words += \" \".join(tokens)+\" \"\n",
    "  \n",
    "wordcloud = WordCloud(width = 745, height = 745, \n",
    "                background_color ='black', \n",
    "                stopwords = stopwords, \n",
    "                min_font_size = 9).generate(most_words)\n",
    "plt.figure(figsize = (8,8), facecolor = None) \n",
    "plt.axis(\"off\") \n",
    "plt.imshow(wordcloud) \n",
    "plt.show()"
   ]
  }
 ],
 "metadata": {
  "kernelspec": {
   "display_name": "Python 3 (ipykernel)",
   "language": "python",
   "name": "python3"
  },
  "language_info": {
   "codemirror_mode": {
    "name": "ipython",
    "version": 3
   },
   "file_extension": ".py",
   "mimetype": "text/x-python",
   "name": "python",
   "nbconvert_exporter": "python",
   "pygments_lexer": "ipython3",
   "version": "3.7.13"
  }
 },
 "nbformat": 4,
 "nbformat_minor": 5
}
