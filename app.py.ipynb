{
 "cells": [
  {
   "cell_type": "code",
   "execution_count": 7,
   "id": "874526ce",
   "metadata": {},
   "outputs": [
    {
     "ename": "NameError",
     "evalue": "name '_name_' is not defined",
     "output_type": "error",
     "traceback": [
      "\u001b[0;31m---------------------------------------------------------------------------\u001b[0m",
      "\u001b[0;31mNameError\u001b[0m                                 Traceback (most recent call last)",
      "\u001b[0;32m/var/folders/cz/mf6k7s456v95hf4y3g4lyfz40000gn/T/ipykernel_87673/226575162.py\u001b[0m in \u001b[0;36m<module>\u001b[0;34m\u001b[0m\n\u001b[1;32m      2\u001b[0m \u001b[0;31m# from process import getValue\u001b[0m\u001b[0;34m\u001b[0m\u001b[0;34m\u001b[0m\u001b[0;34m\u001b[0m\u001b[0m\n\u001b[1;32m      3\u001b[0m \u001b[0;34m\u001b[0m\u001b[0m\n\u001b[0;32m----> 4\u001b[0;31m \u001b[0mapp\u001b[0m \u001b[0;34m=\u001b[0m \u001b[0mFlask\u001b[0m\u001b[0;34m(\u001b[0m\u001b[0m_name_\u001b[0m\u001b[0;34m)\u001b[0m\u001b[0;34m\u001b[0m\u001b[0;34m\u001b[0m\u001b[0m\n\u001b[0m\u001b[1;32m      5\u001b[0m \u001b[0;34m\u001b[0m\u001b[0m\n\u001b[1;32m      6\u001b[0m \u001b[0;34m\u001b[0m\u001b[0m\n",
      "\u001b[0;31mNameError\u001b[0m: name '_name_' is not defined"
     ]
    }
   ],
   "source": [
    "from flask import Flask,render_template,request\n",
    "# from process import getValue\n",
    "\n",
    "app = Flask(_name_)\n",
    "\n",
    "\n",
    "@app.route(\"/\")\n",
    "@app.route(\"/home\")\n",
    "\n",
    "def home():\n",
    "    return render_template(\"index.html\")\n",
    "\n",
    "@app.route(\"/result\", methods = ['POST',\"GET\"])\n",
    "def result():\n",
    "    output = request.form.to_dict()\n",
    "    text = output[\"name\"]\n",
    "    name = getValue(text)\n",
    "\t#print(name)\n",
    "\t#exit()\n",
    "\t#return render_template(\"index.html\",name = name)\n",
    "\n",
    "\n"
   ]
  },
  {
   "cell_type": "code",
   "execution_count": 8,
   "id": "979b2668",
   "metadata": {},
   "outputs": [
    {
     "ename": "NameError",
     "evalue": "name '_name_' is not defined",
     "output_type": "error",
     "traceback": [
      "\u001b[0;31m---------------------------------------------------------------------------\u001b[0m",
      "\u001b[0;31mNameError\u001b[0m                                 Traceback (most recent call last)",
      "\u001b[0;32m/var/folders/cz/mf6k7s456v95hf4y3g4lyfz40000gn/T/ipykernel_87673/1193288508.py\u001b[0m in \u001b[0;36m<module>\u001b[0;34m\u001b[0m\n\u001b[0;32m----> 1\u001b[0;31m \u001b[0;32mif\u001b[0m \u001b[0m_name_\u001b[0m \u001b[0;34m==\u001b[0m \u001b[0;34m'_main_'\u001b[0m\u001b[0;34m:\u001b[0m\u001b[0;34m\u001b[0m\u001b[0;34m\u001b[0m\u001b[0m\n\u001b[0m\u001b[1;32m      2\u001b[0m     \u001b[0mapp\u001b[0m\u001b[0;34m.\u001b[0m\u001b[0mrun\u001b[0m\u001b[0;34m(\u001b[0m\u001b[0mdebug\u001b[0m\u001b[0;34m=\u001b[0m \u001b[0;32mTrue\u001b[0m\u001b[0;34m,\u001b[0m \u001b[0mport\u001b[0m\u001b[0;34m=\u001b[0m\u001b[0;36m5001\u001b[0m\u001b[0;34m)\u001b[0m\u001b[0;34m\u001b[0m\u001b[0;34m\u001b[0m\u001b[0m\n",
      "\u001b[0;31mNameError\u001b[0m: name '_name_' is not defined"
     ]
    }
   ],
   "source": [
    "if _name_ == '_main_':\n",
    "    app.run(debug= True, port=5001)"
   ]
  },
  {
   "cell_type": "code",
   "execution_count": 5,
   "id": "5bf87ec3",
   "metadata": {},
   "outputs": [
    {
     "name": "stdout",
     "output_type": "stream",
     "text": [
      "Requirement already satisfied: flask in /Users/admin/opt/miniconda3/envs/myenv/lib/python3.7/site-packages (2.0.3)\n",
      "Requirement already satisfied: Werkzeug>=2.0 in /Users/admin/opt/miniconda3/envs/myenv/lib/python3.7/site-packages (from flask) (2.0.3)\n",
      "Requirement already satisfied: click>=7.1.2 in /Users/admin/opt/miniconda3/envs/myenv/lib/python3.7/site-packages (from flask) (8.0.4)\n",
      "Requirement already satisfied: Jinja2>=3.0 in /Users/admin/opt/miniconda3/envs/myenv/lib/python3.7/site-packages (from flask) (3.0.3)\n",
      "Requirement already satisfied: itsdangerous>=2.0 in /Users/admin/opt/miniconda3/envs/myenv/lib/python3.7/site-packages (from flask) (2.0.1)\n",
      "Requirement already satisfied: importlib-metadata in /Users/admin/opt/miniconda3/envs/myenv/lib/python3.7/site-packages (from click>=7.1.2->flask) (4.11.3)\n",
      "Requirement already satisfied: MarkupSafe>=2.0 in /Users/admin/opt/miniconda3/envs/myenv/lib/python3.7/site-packages (from Jinja2>=3.0->flask) (2.1.1)\n",
      "Requirement already satisfied: typing-extensions>=3.6.4 in /Users/admin/opt/miniconda3/envs/myenv/lib/python3.7/site-packages (from importlib-metadata->click>=7.1.2->flask) (4.1.1)\n",
      "Requirement already satisfied: zipp>=0.5 in /Users/admin/opt/miniconda3/envs/myenv/lib/python3.7/site-packages (from importlib-metadata->click>=7.1.2->flask) (3.8.0)\n",
      "Note: you may need to restart the kernel to use updated packages.\n"
     ]
    }
   ],
   "source": [
    "pip install flask"
   ]
  }
 ],
 "metadata": {
  "kernelspec": {
   "display_name": "Python 3 (ipykernel)",
   "language": "python",
   "name": "python3"
  },
  "language_info": {
   "codemirror_mode": {
    "name": "ipython",
    "version": 3
   },
   "file_extension": ".py",
   "mimetype": "text/x-python",
   "name": "python",
   "nbconvert_exporter": "python",
   "pygments_lexer": "ipython3",
   "version": "3.7.13"
  }
 },
 "nbformat": 4,
 "nbformat_minor": 5
}
